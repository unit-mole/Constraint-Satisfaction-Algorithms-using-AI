{
 "cells": [
  {
   "cell_type": "code",
   "execution_count": null,
   "id": "3c4a75d3",
   "metadata": {},
   "outputs": [],
   "source": [
    "# Breadth First Search:"
   ]
  },
  {
   "cell_type": "code",
   "execution_count": 1,
   "id": "acff53dc",
   "metadata": {},
   "outputs": [
    {
     "name": "stdout",
     "output_type": "stream",
     "text": [
      "[5, 3, 4, 6, 7, 8, 9, 1, 2]\n",
      "[6, 7, 2, 1, 9, 5, 3, 4, 8]\n",
      "[1, 9, 8, 3, 4, 2, 5, 6, 7]\n",
      "[8, 5, 9, 7, 6, 1, 4, 2, 3]\n",
      "[4, 2, 6, 8, 5, 3, 7, 9, 1]\n",
      "[7, 1, 3, 9, 2, 4, 8, 5, 6]\n",
      "[9, 6, 1, 5, 3, 7, 2, 8, 4]\n",
      "[2, 8, 7, 4, 1, 9, 6, 3, 5]\n",
      "[3, 4, 5, 2, 8, 6, 1, 7, 9]\n"
     ]
    }
   ],
   "source": [
    "from collections import deque       # Import the deque class from the collections module\n",
    "\n",
    "\n",
    "# Define a function to check if a given number is valid in the specified row, column, and 3x3 subgrid:\n",
    "def is_valid(puzzle, row, col, num):\n",
    "    for i in range(9):              # Check the specified row and column for the given number\n",
    "        if puzzle[row][i] == num or puzzle[i][col] == num:\n",
    "            return False\n",
    "\n",
    "    start_row, start_col = row - row % 3, col - col % 3   # Determine the starting row and column of the 3x3 subgrid containing the specified cell\n",
    "    # Check the 3x3 subgrid for the given number\n",
    "    for i in range(3):\n",
    "        for j in range(3):\n",
    "            if puzzle[i + start_row][j + start_col] == num:\n",
    "                return False\n",
    "    # If the number is not found in any of the row, column, or subgrid, it is valid\n",
    "    return True\n",
    "\n",
    "\n",
    "# Define a function to find the next unassigned cell in the puzzle, returning its row and column\n",
    "def next_unassigned(puzzle):\n",
    "    for row in range(9):\n",
    "        for col in range(9):\n",
    "            if puzzle[row][col] == 0:\n",
    "                return row, col\n",
    "    # If no unassigned cells are found, return -1, -1\n",
    "    return -1, -1\n",
    "\n",
    "\n",
    "# Define the breadth-first search algorithm to solve the Sudoku puzzle:\n",
    "def bfs_sudoku(puzzle):\n",
    "    queue = deque([puzzle])      # Initialize a queue with the initial puzzle state\n",
    "\n",
    "    # Continue searching until the queue is empty\n",
    "    while queue:\n",
    "        current_puzzle = queue.popleft()       # Remove the next puzzle state from the queue\n",
    "        row, col = next_unassigned(current_puzzle)    # Find the next unassigned cell in the current puzzle\n",
    "        \n",
    "        # If no unassigned cells are found, the puzzle is solved\n",
    "        if row == -1:\n",
    "            return current_puzzle\n",
    "        \n",
    "        # Try each possible number in the current cell\n",
    "        for num in range(1, 10):\n",
    "            if is_valid(current_puzzle, row, col, num):\n",
    "                # If the number is valid, create a new puzzle state with the number in the current cell\n",
    "                new_puzzle = [row.copy() for row in current_puzzle]\n",
    "                new_puzzle[row][col] = num\n",
    "                # Add the new puzzle state to the queue for further searching\n",
    "                queue.append(new_puzzle)\n",
    "    # If no solution is found, return None\n",
    "    return None\n",
    "\n",
    "# Define the initial Sudoku puzzle:\n",
    "if __name__ == \"__main__\":\n",
    "    puzzle = [\n",
    "        [5, 3, 0, 0, 7, 0, 0, 0, 0],\n",
    "        [6, 0, 0, 1, 9, 5, 0, 0, 0],\n",
    "        [0, 9, 8, 0, 0, 0, 0, 6, 0],\n",
    "        [8, 0, 0, 0, 6, 0, 0, 0, 3],\n",
    "        [4, 0, 0, 8, 0, 3, 0, 0, 1],\n",
    "        [7, 0, 0, 0, 2, 0, 0, 0, 6],\n",
    "        [0, 6, 0, 0, 0, 0, 2, 8, 0],\n",
    "        [0, 0, 0, 4, 1, 9, 0, 0, 5],\n",
    "        [0, 0, 0, 0, 8, 0, 0, 7, 9]\n",
    "    ]\n",
    "\n",
    "    solution = bfs_sudoku(puzzle)\n",
    "\n",
    "    # print the output\n",
    "    if solution:\n",
    "        for row in solution:\n",
    "            print(row)\n",
    "    else:\n",
    "        print(\"No solution found.\")\n"
   ]
  },
  {
   "cell_type": "code",
   "execution_count": null,
   "id": "a0fcfed0",
   "metadata": {},
   "outputs": [],
   "source": []
  },
  {
   "cell_type": "code",
   "execution_count": null,
   "id": "c9b65e64",
   "metadata": {},
   "outputs": [],
   "source": []
  }
 ],
 "metadata": {
  "kernelspec": {
   "display_name": "Python 3",
   "language": "python",
   "name": "python3"
  },
  "language_info": {
   "codemirror_mode": {
    "name": "ipython",
    "version": 3
   },
   "file_extension": ".py",
   "mimetype": "text/x-python",
   "name": "python",
   "nbconvert_exporter": "python",
   "pygments_lexer": "ipython3",
   "version": "3.8.8"
  }
 },
 "nbformat": 4,
 "nbformat_minor": 5
}

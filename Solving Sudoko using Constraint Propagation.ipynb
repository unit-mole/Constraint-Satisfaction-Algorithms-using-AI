{
 "cells": [
  {
   "cell_type": "code",
   "execution_count": 1,
   "id": "ec3f2807",
   "metadata": {},
   "outputs": [],
   "source": [
    "# Constraint propagation:"
   ]
  },
  {
   "cell_type": "code",
   "execution_count": 2,
   "id": "0a0f271e",
   "metadata": {},
   "outputs": [
    {
     "name": "stdout",
     "output_type": "stream",
     "text": [
      "5 3 1 1 7 1 1 1 1\n",
      "6 1 1 1 9 5 1 1 1\n",
      "1 9 8 1 1 1 1 6 1\n",
      "8 1 1 1 6 1 1 1 3\n",
      "4 1 1 8 1 3 1 1 1\n",
      "7 1 1 1 2 1 1 1 6\n",
      "1 6 1 1 1 1 2 8 1\n",
      "1 1 1 4 1 9 1 1 5\n",
      "1 1 1 1 8 1 1 7 9\n"
     ]
    }
   ],
   "source": [
    "import itertools        # import the itertools module\n",
    "\n",
    "# function to create the domain of each variable in the puzzle:\n",
    "def create_domains(puzzle):\n",
    "    domains = {}\n",
    "    for i in range(9):\n",
    "        for j in range(9):\n",
    "            if puzzle[i][j] == 0:\n",
    "                domains[(i, j)] = set(range(1, 10))\n",
    "            else:\n",
    "                domains[(i, j)] = set([puzzle[i][j]])\n",
    "    return domains\n",
    "\n",
    "\n",
    "# function to revise the domains of the variables:\n",
    "def revise(csp, Xi, Xj):\n",
    "    revised = False\n",
    "    if Xi in csp and Xj in csp:\n",
    "        for x in csp[Xi]:\n",
    "            if all(not csp[Xj] <= set([y]) for y in csp[Xi] - set([x])):\n",
    "                csp[Xi].remove(x)\n",
    "                revised = True\n",
    "    return revised\n",
    "\n",
    "# function to perform the AC-3 algorithm:\n",
    "def ac3(csp, queue=None):\n",
    "    if queue is None:\n",
    "        queue = [(i, j) for i in range(9) for j in range(9)]\n",
    "    while queue:\n",
    "        (Xi, Xj) = queue.pop(0)\n",
    "        if revise(csp, Xi, Xj):\n",
    "            if len(csp[Xi]) == 0:\n",
    "                return False\n",
    "            for Xk in set(range(9)) - set([Xi]):\n",
    "                if (Xk, Xi) not in queue:\n",
    "                    queue.append((Xk, Xi))\n",
    "    return True\n",
    "\n",
    "# function to solve the sudoku puzzle:\n",
    "def solve_sudoku(puzzle):\n",
    "    domains = create_domains(puzzle)\n",
    "    queue = list(itertools.product(range(9), repeat=2))\n",
    "    ac3(domains, queue)\n",
    "    return {k: list(v)[0] for k, v in domains.items()}\n",
    "\n",
    "# example Sudoku board:\n",
    "if __name__ == '__main__':\n",
    "    # Example Sudoku board\n",
    "    puzzle = [\n",
    "        [5, 3, 0, 0, 7, 0, 0, 0, 0],\n",
    "        [6, 0, 0, 1, 9, 5, 0, 0, 0],\n",
    "        [0, 9, 8, 0, 0, 0, 0, 6, 0],\n",
    "        [8, 0, 0, 0, 6, 0, 0, 0, 3],\n",
    "        [4, 0, 0, 8, 0, 3, 0, 0, 1],\n",
    "        [7, 0, 0, 0, 2, 0, 0, 0, 6],\n",
    "        [0, 6, 0, 0, 0, 0, 2, 8, 0],\n",
    "        [0, 0, 0, 4, 1, 9, 0, 0, 5],\n",
    "        [0, 0, 0, 0, 8, 0, 0, 7, 9]\n",
    "\n",
    "    # call the solve_sudoku function to solve the puzzle\n",
    "    solution = solve_sudoku(puzzle)\n",
    "\n",
    "    # print the solution\n",
    "    for i in range(9):\n",
    "        print(' '.join(str(solution[(i,j)]) for j in range(9)))"
   ]
  },
  {
   "cell_type": "code",
   "execution_count": null,
   "id": "caee0cc0",
   "metadata": {},
   "outputs": [],
   "source": []
  }
 ],
 "metadata": {
  "kernelspec": {
   "display_name": "Python 3",
   "language": "python",
   "name": "python3"
  },
  "language_info": {
   "codemirror_mode": {
    "name": "ipython",
    "version": 3
   },
   "file_extension": ".py",
   "mimetype": "text/x-python",
   "name": "python",
   "nbconvert_exporter": "python",
   "pygments_lexer": "ipython3",
   "version": "3.8.8"
  }
 },
 "nbformat": 4,
 "nbformat_minor": 5
}

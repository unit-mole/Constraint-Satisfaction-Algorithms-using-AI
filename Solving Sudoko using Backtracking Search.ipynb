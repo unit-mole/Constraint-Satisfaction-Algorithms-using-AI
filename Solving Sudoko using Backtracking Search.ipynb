{
 "cells": [
  {
   "cell_type": "code",
   "execution_count": 1,
   "id": "8422146a",
   "metadata": {},
   "outputs": [
    {
     "name": "stdout",
     "output_type": "stream",
     "text": [
      "[5, 3, 4, 6, 7, 8, 9, 1, 2]\n",
      "[6, 7, 2, 1, 9, 5, 3, 4, 8]\n",
      "[1, 9, 8, 3, 4, 2, 5, 6, 7]\n",
      "[8, 5, 9, 7, 6, 1, 4, 2, 3]\n",
      "[4, 2, 6, 8, 5, 3, 7, 9, 1]\n",
      "[7, 1, 3, 9, 2, 4, 8, 5, 6]\n",
      "[9, 6, 1, 5, 3, 7, 2, 8, 4]\n",
      "[2, 8, 7, 4, 1, 9, 6, 3, 5]\n",
      "[3, 4, 5, 2, 8, 6, 1, 7, 9]\n"
     ]
    }
   ],
   "source": [
    "def is_valid_assignment(puzzle, row, col, num):\n",
    "    # Check if the number is not in the same row or column\n",
    "    for i in range(9):\n",
    "        if puzzle[row][i] == num or puzzle[i][col] == num:\n",
    "            return False\n",
    "\n",
    "    # Check if the number is not in the same 3x3 subgrid\n",
    "    start_row, start_col = row - row % 3, col - col % 3\n",
    "    for i in range(3):\n",
    "        for j in range(3):\n",
    "            if puzzle[i + start_row][j + start_col] == num:\n",
    "                return False\n",
    "\n",
    "    return True\n",
    "\n",
    "def find_empty_cell(puzzle):\n",
    "    for i in range(9):\n",
    "        for j in range(9):\n",
    "            if puzzle[i][j] == 0:\n",
    "                return i, j\n",
    "    return None\n",
    "\n",
    "def sudoku_backtracking(puzzle):\n",
    "    empty_cell = find_empty_cell(puzzle)\n",
    "    if not empty_cell:\n",
    "        return puzzle\n",
    "\n",
    "    row, col = empty_cell\n",
    "\n",
    "    for num in range(1, 10):\n",
    "        if is_valid_assignment(puzzle, row, col, num):\n",
    "            puzzle[row][col] = num\n",
    "\n",
    "            if sudoku_backtracking(puzzle):\n",
    "                return puzzle\n",
    "\n",
    "            puzzle[row][col] = 0\n",
    "\n",
    "    return None\n",
    "\n",
    "def solve_sudoku(puzzle):\n",
    "    return sudoku_backtracking(puzzle)\n",
    "\n",
    "if __name__ == \"__main__\":\n",
    "    puzzle = [\n",
    "        [5, 3, 0, 0, 7, 0, 0, 0, 0],\n",
    "        [6, 0, 0, 1, 9, 5, 0, 0, 0],\n",
    "        [0, 9, 8, 0, 0, 0, 0, 6, 0],\n",
    "        [8, 0, 0, 0, 6, 0, 0, 0, 3],\n",
    "        [4, 0, 0, 8, 0, 3, 0, 0, 1],\n",
    "        [7, 0, 0, 0, 2, 0, 0, 0, 6],\n",
    "        [0, 6, 0, 0, 0, 0, 2, 8, 0],\n",
    "        [0, 0, 0, 4, 1, 9, 0, 0, 5],\n",
    "        [0, 0, 0, 0, 8, 0, 0, 7, 9]\n",
    "    ]\n",
    "\n",
    "    solution = solve_sudoku(puzzle)\n",
    "\n",
    "    for row in solution:\n",
    "        print(row)\n"
   ]
  },
  {
   "cell_type": "code",
   "execution_count": null,
   "id": "091fa16e",
   "metadata": {},
   "outputs": [],
   "source": []
  }
 ],
 "metadata": {
  "kernelspec": {
   "display_name": "Python 3",
   "language": "python",
   "name": "python3"
  },
  "language_info": {
   "codemirror_mode": {
    "name": "ipython",
    "version": 3
   },
   "file_extension": ".py",
   "mimetype": "text/x-python",
   "name": "python",
   "nbconvert_exporter": "python",
   "pygments_lexer": "ipython3",
   "version": "3.8.8"
  }
 },
 "nbformat": 4,
 "nbformat_minor": 5
}

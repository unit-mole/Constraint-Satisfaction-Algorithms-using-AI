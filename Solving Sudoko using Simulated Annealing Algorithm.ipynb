{
 "cells": [
  {
   "cell_type": "code",
   "execution_count": 1,
   "id": "f6f3a645",
   "metadata": {},
   "outputs": [],
   "source": [
    "## simulated annealing algorithm:"
   ]
  },
  {
   "cell_type": "code",
   "execution_count": 2,
   "id": "db8ecdd3",
   "metadata": {},
   "outputs": [
    {
     "name": "stdout",
     "output_type": "stream",
     "text": [
      "Initial Sudoku board:\n",
      "[5, 3, 0, 0, 7, 0, 0, 0, 0]\n",
      "[6, 0, 0, 1, 9, 5, 0, 0, 0]\n",
      "[0, 9, 8, 0, 0, 0, 0, 6, 0]\n",
      "[8, 0, 0, 0, 6, 0, 0, 0, 3]\n",
      "[4, 0, 0, 8, 0, 3, 0, 0, 1]\n",
      "[7, 0, 0, 0, 2, 0, 0, 0, 6]\n",
      "[0, 6, 0, 0, 0, 0, 2, 8, 0]\n",
      "[0, 0, 0, 4, 1, 9, 0, 0, 5]\n",
      "[0, 0, 0, 0, 8, 0, 0, 7, 9]\n",
      "\n",
      "Solved Sudoku board:\n",
      "[0, 0, 0, 0, 0, 0, 0, 0, 0]\n",
      "[0, 0, 0, 0, 0, 0, 8, 8, 0]\n",
      "[0, 0, 0, 0, 0, 0, 8, 8, 0]\n",
      "[0, 0, 0, 0, 0, 0, 5, 5, 5]\n",
      "[0, 0, 0, 0, 0, 0, 6, 6, 6]\n",
      "[0, 0, 0, 0, 9, 9, 4, 1, 4]\n",
      "[0, 0, 0, 0, 3, 7, 1, 1, 3]\n",
      "[0, 0, 0, 0, 9, 9, 8, 6, 6]\n",
      "[0, 0, 0, 0, 3, 7, 2, 7, 2]\n"
     ]
    }
   ],
   "source": [
    "# Import required modules:\n",
    "import random\n",
    "import math\n",
    "\n",
    "\n",
    "# Define function to calculate the cost of a given Sudoku puzzle:\n",
    "def get_cost(puzzle):\n",
    "    cost = 0\n",
    "    for i in range(9):\n",
    "        for j in range(9):\n",
    "            if puzzle[i][j] == 0:\n",
    "                row = set(puzzle[i])\n",
    "                col = set(puzzle[r][j] for r in range(9))\n",
    "                sub = set(puzzle[r][c] for r in range(i//3*3, i//3*3+3) for c in range(j//3*3, j//3*3+3))\n",
    "                cost += len(row) + len(col) + len(sub)\n",
    "    return cost\n",
    "\n",
    "\n",
    "# Define function to generate a neighbor of a given Sudoku puzzle by swapping two random cells:\n",
    "def get_neighbor(puzzle, temperature):\n",
    "    i1, j1 = random.randrange(9), random.randrange(9)\n",
    "    i2, j2 = random.randrange(9), random.randrange(9)\n",
    "    neighbor = [row[:] for row in puzzle]\n",
    "    neighbor[i1][j1], neighbor[i2][j2] = neighbor[i2][j2], neighbor[i1][j1]\n",
    "    return neighbor\n",
    "\n",
    "\n",
    "# Define function to solve a Sudoku puzzle using the simulated annealing algorithm:\n",
    "def simulated_annealing(puzzle):\n",
    "    temperature = 1.0\n",
    "    cooling_rate = 0.999\n",
    "    current = puzzle\n",
    "    current_cost = get_cost(current)\n",
    "    while current_cost > 0 and temperature > 1e-3:\n",
    "        neighbor = get_neighbor(current, temperature)\n",
    "        neighbor_cost = get_cost(neighbor)\n",
    "        cost_delta = neighbor_cost - current_cost\n",
    "        if cost_delta < 0 or math.exp(-cost_delta/temperature) > random.random():\n",
    "            current, current_cost = neighbor, neighbor_cost\n",
    "        temperature *= cooling_rate\n",
    "    return current\n",
    "\n",
    "\n",
    "# call the solve_sudoku function to solve the puzzle\n",
    "if __name__ == '__main__':\n",
    "    # Example Sudoku board\n",
    "    puzzle = [\n",
    "        [5, 3, 0, 0, 7, 0, 0, 0, 0],\n",
    "        [6, 0, 0, 1, 9, 5, 0, 0, 0],\n",
    "        [0, 9, 8, 0, 0, 0, 0, 6, 0],\n",
    "        [8, 0, 0, 0, 6, 0, 0, 0, 3],\n",
    "        [4, 0, 0, 8, 0, 3, 0, 0, 1],\n",
    "        [7, 0, 0, 0, 2, 0, 0, 0, 6],\n",
    "        [0, 6, 0, 0, 0, 0, 2, 8, 0],\n",
    "        [0, 0, 0, 4, 1, 9, 0, 0, 5],\n",
    "        [0, 0, 0, 0, 8, 0, 0, 7, 9]\n",
    "    ]\n",
    "    # print the output:\n",
    "    print(\"Initial Sudoku board:\")\n",
    "    for row in puzzle:\n",
    "        print(row)\n",
    "\n",
    "    solution = simulated_annealing(puzzle)\n",
    "\n",
    "    print(\"\\nSolved Sudoku board:\")\n",
    "    for row in solution:\n",
    "        print(row)\n"
   ]
  },
  {
   "cell_type": "code",
   "execution_count": null,
   "id": "90fedccd",
   "metadata": {},
   "outputs": [],
   "source": []
  }
 ],
 "metadata": {
  "kernelspec": {
   "display_name": "Python 3",
   "language": "python",
   "name": "python3"
  },
  "language_info": {
   "codemirror_mode": {
    "name": "ipython",
    "version": 3
   },
   "file_extension": ".py",
   "mimetype": "text/x-python",
   "name": "python",
   "nbconvert_exporter": "python",
   "pygments_lexer": "ipython3",
   "version": "3.8.8"
  }
 },
 "nbformat": 4,
 "nbformat_minor": 5
}

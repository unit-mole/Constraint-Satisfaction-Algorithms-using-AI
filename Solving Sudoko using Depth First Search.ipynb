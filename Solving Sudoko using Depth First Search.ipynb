{
 "cells": [
  {
   "cell_type": "code",
   "execution_count": null,
   "id": "49962bcd",
   "metadata": {},
   "outputs": [],
   "source": [
    "# Depth First search:"
   ]
  },
  {
   "cell_type": "code",
   "execution_count": 1,
   "id": "43f6fe91",
   "metadata": {},
   "outputs": [
    {
     "name": "stdout",
     "output_type": "stream",
     "text": [
      "Time taken: 0.241665 seconds\n",
      "[5, 3, 4, 6, 7, 8, 9, 1, 2]\n",
      "[6, 7, 2, 1, 9, 5, 3, 4, 8]\n",
      "[1, 9, 8, 3, 4, 2, 5, 6, 7]\n",
      "[8, 5, 9, 7, 6, 1, 4, 2, 3]\n",
      "[4, 2, 6, 8, 5, 3, 7, 9, 1]\n",
      "[7, 1, 3, 9, 2, 4, 8, 5, 6]\n",
      "[9, 6, 1, 5, 3, 7, 2, 8, 4]\n",
      "[2, 8, 7, 4, 1, 9, 6, 3, 5]\n",
      "[3, 4, 5, 2, 8, 6, 1, 7, 9]\n"
     ]
    }
   ],
   "source": [
    "import time\n",
    "\n",
    "def is_valid(puzzle, row, col, num):\n",
    "    for i in range(9):    # Check if the given number is already in the same row or column\n",
    "        if puzzle[row][i] == num or puzzle[i][col] == num:\n",
    "            return False\n",
    "\n",
    "    # Check if the given number is already in the same 3x3 sub-grid\n",
    "    start_row, start_col = row - row % 3, col - col % 3\n",
    "    for i in range(3):\n",
    "        for j in range(3):\n",
    "            if puzzle[i + start_row][j + start_col] == num:\n",
    "                return False\n",
    "\n",
    "    return True\n",
    "\n",
    "\n",
    "def solve_sudoku(puzzle):\n",
    "    # Find the first unassigned position in the puzzle\n",
    "    row = col = -1\n",
    "    for i in range(9):\n",
    "        for j in range(9):\n",
    "            if puzzle[i][j] == 0:\n",
    "                row, col = i, j\n",
    "                break\n",
    "        if row != -1:\n",
    "            break\n",
    "\n",
    "    # If all positions are assigned, the puzzle is solved\n",
    "    if row == -1:\n",
    "        return True\n",
    "\n",
    "    # Try out each number from 1 to 9 in the current unassigned position\n",
    "    for num in range(1, 10):\n",
    "        if is_valid(puzzle, row, col, num):\n",
    "            # If the number is valid, assign it to the current position and continue solving\n",
    "            puzzle[row][col] = num\n",
    "            if solve_sudoku(puzzle):\n",
    "                return True\n",
    "            # If the number is not valid, reset the current position to 0 and try the next number\n",
    "            puzzle[row][col] = 0\n",
    "    # If none of the numbers from 1 to 9 are valid, backtrack to the previous unassigned position\n",
    "    return False\n",
    "\n",
    "# example Sudoku board:\n",
    "if __name__ == \"__main__\":\n",
    "    # Example Sudoku board\n",
    "    puzzle = [\n",
    "        [5, 3, 0, 0, 7, 0, 0, 0, 0],\n",
    "        [6, 0, 0, 1, 9, 5, 0, 0, 0],\n",
    "        [0, 9, 8, 0, 0, 0, 0, 6, 0],\n",
    "        [8, 0, 0, 0, 6, 0, 0, 0, 3],\n",
    "        [4, 0, 0, 8, 0, 3, 0, 0, 1],\n",
    "        [7, 0, 0, 0, 2, 0, 0, 0, 6],\n",
    "        [0, 6, 0, 0, 0, 0, 2, 8, 0],\n",
    "        [0, 0, 0, 4, 1, 9, 0, 0, 5],\n",
    "        [0, 0, 0, 0, 8, 0, 0, 7, 9]\n",
    "    ]\n",
    "\n",
    "# example Sudoku board:\n",
    "if __name__ == \"__main__\":\n",
    "    # Example Sudoku board\n",
    "    puzzle = [\n",
    "        [5, 3, 0, 0, 7, 0, 0, 0, 0],\n",
    "        [6, 0, 0, 1, 9, 5, 0, 0, 0],\n",
    "        [0, 9, 8, 0, 0, 0, 0, 6, 0],\n",
    "        [8, 0, 0, 0, 6, 0, 0, 0, 3],\n",
    "        [4, 0, 0, 8, 0, 3, 0, 0, 1],\n",
    "        [7, 0, 0, 0, 2, 0, 0, 0, 6],\n",
    "        [0, 6, 0, 0, 0, 0, 2, 8, 0],\n",
    "        [0, 0, 0, 4, 1, 9, 0, 0, 5],\n",
    "        [0, 0, 0, 0, 8, 0, 0, 7, 9]\n",
    "    ]\n",
    "\n",
    "    start_time = time.time()\n",
    "    if solve_sudoku(puzzle):\n",
    "        end_time = time.time()\n",
    "        print(\"Time taken: {:.6f} seconds\".format(end_time - start_time))\n",
    "        for row in puzzle:\n",
    "            print(row)\n",
    "    else:\n",
    "        print(\"No solution found.\")\n"
   ]
  },
  {
   "cell_type": "code",
   "execution_count": null,
   "id": "48714c20",
   "metadata": {},
   "outputs": [],
   "source": []
  },
  {
   "cell_type": "code",
   "execution_count": null,
   "id": "f85852ff",
   "metadata": {},
   "outputs": [],
   "source": []
  },
  {
   "cell_type": "code",
   "execution_count": null,
   "id": "7286c398",
   "metadata": {},
   "outputs": [],
   "source": []
  }
 ],
 "metadata": {
  "kernelspec": {
   "display_name": "Python 3",
   "language": "python",
   "name": "python3"
  },
  "language_info": {
   "codemirror_mode": {
    "name": "ipython",
    "version": 3
   },
   "file_extension": ".py",
   "mimetype": "text/x-python",
   "name": "python",
   "nbconvert_exporter": "python",
   "pygments_lexer": "ipython3",
   "version": "3.8.8"
  }
 },
 "nbformat": 4,
 "nbformat_minor": 5
}
